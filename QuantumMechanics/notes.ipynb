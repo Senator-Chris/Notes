{
 "cells": [
  {
   "cell_type": "code",
   "execution_count": 1,
   "metadata": {},
   "outputs": [],
   "source": [
    "import matplotlib.pyplot as plt\n",
    "import numpy as np"
   ]
  },
  {
   "cell_type": "markdown",
   "metadata": {},
   "source": [
    "<center id=\"Azure\"><h1><b>AZURE</h1></b></center><hr>"
   ]
  },
  {
   "cell_type": "markdown",
   "metadata": {},
   "source": [
    "<h2 id=\"a1\"><b>1. <u>LINEAR ALGEBRA FOR QUANTUM COMPUTING<u></b></h3>"
   ]
  },
  {
   "cell_type": "markdown",
   "metadata": {},
   "source": [
    "<h3 id=\"a1.1\"><b>1.1 <u>VECTORS AND MATRICES IN QUANTUM COMPUTING</u></b></h3>"
   ]
  },
  {
   "cell_type": "markdown",
   "metadata": {},
   "source": [
    "A qubit can be in a state of 1 or 0 or a superposition of both. The state off a qubit is described as a vector and is represented by a single column matrix $\\begin{bmatrix}a\\\\b\\end{bmatrix}$ known as the <b>quantum state vector</b> that meets the requirement that $|a|^2+|b|^2=1$.\n",
    "\n",
    "The elements of the matrix represent the probaiblity of the qubit collapsing one way or the other, with $|a|^2$ being the probability of collapsing to zero, and $|b|^2$ being the probability of collapsing to one. "
   ]
  },
  {
   "cell_type": "markdown",
   "metadata": {},
   "source": [
    "The <formatted style=\"background-color:lightgrey;font-family:Cascadia Mono\">X</formatted> operation is represented by the Pauli matrix $X$:\n",
    "\n",
    "$$X=\\begin{bmatrix}0&1\\\\1&0\\end{bmatrix}$$\n",
    "\n",
    "and is used to flip the state of a qubit from 0 to 1, for example\n",
    "\n",
    "$$\\begin{bmatrix}0&1\\\\1&0\\end{bmatrix}\\begin{bmatrix}1\\\\0\\end{bmatrix}=\\begin{bmatrix}0\\\\1\\end{bmatrix}$$\n",
    "\n",
    "The <formatted style=\"background-color:lightgrey;font-family:Cascadia Mono\">H</formatted> operation is represented by the Hadamard transformation $H$:\n",
    "\n",
    "$$H=\\frac{1}{\\sqrt{2}}\\begin{bmatrix}1&1\\\\1&-1\\end{bmatrix}$$\n",
    "\n",
    "and puts a qubit into a superposition state where it has an even probability of collapsing either way\n",
    "\n",
    "$$H=\\frac{1}{\\sqrt{2}}\\begin{bmatrix}1&1\\\\1&-1\\end{bmatrix}\\begin{bmatrix}1\\\\0\\end{bmatrix}\\frac{1}{\\sqrt{2}}\\begin{bmatrix}1\\\\1\\end{bmatrix}$$\n",
    "\n",
    "Notice that $|a|^2+|b|^2=\\frac{1}{2}$, meaning that the probability of collapsing to zero and one state is the same.\n",
    "\n",
    "A matrix that represents a quantum operation has one requirement--it must be a <b>unitary matrix</b>, i.e., the its inverse is euqal to its <b>conjugate transponse</b>."
   ]
  },
  {
   "cell_type": "markdown",
   "metadata": {},
   "source": [
    "<h3 id=\"1.2\"><b>1.2 <u>REPRESENTING TWO-QUBIT STATES</u></b></h3>"
   ]
  },
  {
   "cell_type": "markdown",
   "metadata": {},
   "source": [
    "The real power of quantum computing comes from leveraging multiple qubits to perform compoutations.\n",
    "\n",
    "Remember that each qubit is a vector space, so they can't just be multiplied. Instead, you use a <b>tensor product</b>, which is a related operation that creates a new vector space from individual vector spaces, and is represented by the $\\otimes$ symbol\n",
    "\n",
    "$$\\begin{bmatrix}a\\\\b\\end{bmatrix}\\otimes\\begin{bmatrix}c\\\\d\\end{bmatrix}=\\begin{bmatrix}a&\\begin{bmatrix}c\\\\d\\end{bmatrix}\\\\b&\\begin{bmatrix}c\\\\d\\end{bmatrix}\\end{bmatrix}=\\begin{bmatrix}ac\\\\ad\\\\bc\\\\bd\\end{bmatrix}$$\n",
    "\n",
    "The result is a four dimensional matrix, with each element representing a probability. For example $ac$ is the probability of the two qubits collapsing to 0 and 0, $ad$ is the probability of 0 and 1, and so on.\n",
    "\n",
    "Just as a single qubit state $\\begin{bmatrix}a\\\\b\\end{bmatrix}$$ must meet the requirement that $|a|^2+|b|^2=1$ in order to represent a quantum state, a two-qubit state $\\begin{bmatrix}ac\\\\ad\\\\bc\\\\bd\\end{bmatrix}$ must meet the requirement that $|ac|^2+|ad|^2+|bc|^2+|bd|^2=1$.\n",
    "\n",
    "\n",
    "\n"
   ]
  },
  {
   "cell_type": "markdown",
   "metadata": {},
   "source": [
    "<h2 id=\"2\"><b>2. <u>WORK WITH VECTORS AND MATRICES IN QUANTUM COMPUTING<u></b></h3>"
   ]
  },
  {
   "cell_type": "markdown",
   "metadata": {},
   "source": [
    "<h3 id=\"2.1\"><b>2.1 <u>VECTORS</u></b></h3>"
   ]
  },
  {
   "cell_type": "markdown",
   "metadata": {},
   "source": [
    "A column vector $v$ of dimension (or size) $n$ is a collection of $n$ complex numbers $(v_1,v_2,\\ldots,v_n)$ arranged as column:\n",
    "\n",
    "$$v=\\begin{bmatrix}v_1\\\\b_2\\\\\\vdots\\\\v_n\\end{bmatrix}$$\n",
    "\n",
    "The norm of a vector is defined as $\\sqrt{\\}"
   ]
  },
  {
   "cell_type": "markdown",
   "metadata": {},
   "source": [
    "<center id=\"Introduction to Quantum Mechanics\"><h1><b>INTRODUCTION TO QUANTUM MECHANICS</h1></b></center><hr>"
   ]
  },
  {
   "cell_type": "markdown",
   "metadata": {},
   "source": [
    "<h2 id=\"1\"><b>1. <u>THE WAVE FUNCTION</u></b></h2>"
   ]
  },
  {
   "cell_type": "markdown",
   "metadata": {},
   "source": [
    "<h3 id=\"1.1\"><b>1.1 <u>THE SCHR&Ouml;DINGER EQUATION</u></b></h3>"
   ]
  },
  {
   "cell_type": "markdown",
   "metadata": {},
   "source": [
    "The program of classical mechanics is to determine the position of a particle at any given time: $x(t)$. Then, we can figure out the velocity $v=\\frac{dx}{dt}$, the momentum $p=mv$, the kinetic energy $T=\\frac{1}{2}mv^2$, or any other dynamical variable of interest. And for determining $x(t)$, we apply Newton's second law: $F=ma$. This, together with the appropriate initial conditions (typically the position and velocity at $t=0$), determines $x(t)$."
   ]
  },
  {
   "cell_type": "markdown",
   "metadata": {},
   "source": [
    "Quantum mechanics approaches this same problem quite differently. In this case what we're looking for is the particle's wave function, $\\Psi(x,t)$, and we get is by solving the <u><b style=\"color:#156082\">Schr&ouml;dinger equation</b></u>:\n",
    "\n",
    "$$ih\\frac{\\partial\\Psi}{\\partial t}=-\\frac{h^2}{2m}\\frac{\\partial^2\\Psi}{\\partial x^2}+V(\\Psi)\\tag{1.1}$$\n",
    "\n",
    "where $i=\\sqrt{-1}$ and $h$ is the <u><b style=\"color:#156082\">Planck's constant</b></u>--or rather, his original constant divided by $2\\pi$:\n",
    "\n",
    "$$h=\\frac{h}{2\\pi}=1.054573\\times10^{-34}Js\\tag{1.2}$$"
   ]
  },
  {
   "cell_type": "markdown",
   "metadata": {},
   "source": [
    "<center><img id=\"fig1.1\" src=\"figs/fig1.1.png\"></center>"
   ]
  },
  {
   "cell_type": "markdown",
   "metadata": {},
   "source": [
    "<h3 id=\"1.2\"><b>1.2 <u>THE STATISTICAL INTERPRETATION</u></b></h3>"
   ]
  },
  {
   "cell_type": "markdown",
   "metadata": {},
   "source": [
    "The wave function (as its name suggests) is spread out in space (it's a function of $x$, for any given $t$). How can such an object represent the state of a particle? The answer is provided by <u><b style=\"color:#156082\">Born's statistical interpretation</b></u>:\n",
    "\n",
    "$$\\int_a^b|\\Psi(x,t)|^2dx=\\left\\{\\begin{matrix}\\text{probability of finding the particle}\\\\\\text{between $a$ and $b$, at time $t$}\\end{matrix}\\right\\}"
   ]
  },
  {
   "cell_type": "markdown",
   "metadata": {},
   "source": [
    "<center><img id=\"fig1.2\" src=\"figs/fig1.2.png\"></center>"
   ]
  },
  {
   "cell_type": "markdown",
   "metadata": {},
   "source": [
    "The statistical interpretation introduces a kind of indeterminacy into quantum mechanics, for even if you know everything the theory has to tell you about the particle, still you cannot predict with certainty the outcome of a simple experiment to measure its position--all quantum mechanics has to offer is statistical information about the possible results.\n",
    "\n",
    "Suppose I do measure the position of the particle, and I find it to be at point C. Question: Where was the particle just before I made the measurement? There are three plausbile answers\n",
    "\n",
    "1. The <b>realist</b> position: The particle was at C. To the realist, indeterminacy is not a fact of nature, but a reflection of our ignorance. As d'Espagnat put it, \"the position of the particle was never indeterminate, but was merely unkonwn to the experimenter.\" Evidently $\\Psi$ is not the whole story--some additional information (known as a <b>hidden variable</b>) is needed to provide a complete description of the particle.\n",
    "\n",
    "2. The <b>orthodox</b> position: The particle wasn't really anywhere. It was the act of measurement that forced it to \"take a stand\" (though hwo and why it decided on the point C we dare not ask). Jordan said it most starkly: \"Observations not only disturb what is to be measured, they produce it. . . We compel [the particle] to assume a definite position.\" This view (the so called <u><b style=\"color:#156082\">Copenhagen interpretation</b></u>), is associated with Bohr and his followers. Among physicists it has always been the most widely accepted position.\n",
    "\n",
    "3. The <b>agnostic</b> position: Refuse to answer. This is not quite as silly as it sounds--after all, what sense can there be in making assertions about the status of a particle before measurement, when the only of knowing whether you were right is precisly to make a measurement, in which case what you get is no longer \"before the measurement\"? It is metaphysics (in the pejorative sense of the word) to worry about something that cannot, by its nature, be tested. Pauli said: \"One should no more rack one's brain about the problem of whether something of how many angels are able to sit on the point of a needle.\" \n",
    "\n",
    "In 1964, John Bell showed that it makes an observable difference whether the particle had a precise (though unknown) position prior to the measurement, or not. Bell's discovery effectively eliminated agnosticism as a viable option, and made it an experimental question where 1 or 2 is the correct choice. For now, suffice it to say that the experiments have decisively confirmed the orthodox interpretation: <b>a particle simply does not have a precise position prior to measurement; it is the measurement process that insists on one particular number, and thereby in a sense creates the specific result, limited only by the statistical weighting imposed by the wave function.</b>"
   ]
  },
  {
   "cell_type": "markdown",
   "metadata": {},
   "source": [
    "What if I made a second measurement, immediately after the first? Would I get C again? A repeated measurement (on the same particle) must return the same value. How does the orthodox interpretation account for the fact that the second measurement is bound to yield C? It must be that the first measurement radically alters the wave function, so that it is now sharply peaked about C. We say that the wave function <b>collapses</b>, upon measurement, to a spike about C.\n",
    "\n",
    "There are, then, two entirely distinct kinds of physical processes: \"ordinary\" ones, in which the wave function evolves in a leisurely fashion under the Schr&ouml;dinger equation, and \"measurements,\" in which $\\Psi$ suddenly and discontinuously collapses."
   ]
  },
  {
   "cell_type": "code",
   "execution_count": null,
   "metadata": {},
   "outputs": [
    {
     "ename": "",
     "evalue": "",
     "output_type": "error",
     "traceback": [
      "\u001b[1;31mRunning cells with 'Python 3.11.2' requires the ipykernel package.\n",
      "\u001b[1;31mRun the following command to install 'ipykernel' into the Python environment. \n",
      "\u001b[1;31mCommand: '/bin/python3 -m pip install ipykernel -U --user --force-reinstall'"
     ]
    }
   ],
   "source": [
    "import numpy as np\n",
    "import matplotlib.pyplot as plt\n",
    "\n",
    "# Define the piecewise function\n",
    "def f(x):\n",
    "    if x < 2.5:\n",
    "        return np.exp(-(x-1)**2) + 0.5 * np.exp(-(x-3)**2 / 0.5) + 0.3 * np.exp(-(x-5)**2 / 2)\n",
    "    elif 2.5 <= x < 5.5:\n",
    "        return 0.5 * np.exp(-(x-4)**2 / 0.2)\n",
    "    else:\n",
    "        return 0.2 * np.exp(-(x-7)**2 / 0.5) + 0.1 * np.exp(-(x-8)**2 / 1.5)\n",
    "\n",
    "# Vectorize the function for plotting\n",
    "f_vectorized = np.vectorize(f)\n",
    "\n",
    "# Generate x values\n",
    "x_values = np.linspace(0, 10, 1000)\n",
    "# Compute y values\n",
    "y_values = f_vectorized(x_values)\n",
    "\n",
    "# Plot the function\n",
    "plt.figure(figsize=(10, 5))\n",
    "plt.plot(x_values, y_values, label=r'$|\\Psi|^2$', color='black')\n",
    "plt.fill_between(x_values, y_values, where=((x_values >= 0.5) & (x_values <= 2)), color='gray', alpha=0.5)\n",
    "plt.xlabel('x')\n",
    "plt.ylabel(r'$|\\Psi|^2$')\n",
    "plt.title('Approximation of the Given Function')\n",
    "plt.axhline(0, color='black',linewidth=0.5)\n",
    "plt.axvline(0, color='black',linewidth=0.5)\n",
    "plt.grid(color = 'gray', linestyle = '--', linewidth = 0.5)\n",
    "plt.show()\n"
   ]
  },
  {
   "cell_type": "markdown",
   "metadata": {},
   "source": []
  }
 ],
 "metadata": {
  "kernelspec": {
   "display_name": ".venv",
   "language": "python",
   "name": "python3"
  },
  "language_info": {
   "codemirror_mode": {
    "name": "ipython",
    "version": 3
   },
   "file_extension": ".py",
   "mimetype": "text/x-python",
   "name": "python",
   "nbconvert_exporter": "python",
   "pygments_lexer": "ipython3",
   "version": "3.11.2"
  }
 },
 "nbformat": 4,
 "nbformat_minor": 2
}
