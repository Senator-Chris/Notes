{
 "cells": [
  {
   "cell_type": "code",
   "execution_count": 5,
   "metadata": {},
   "outputs": [],
   "source": [
    "import numpy as np\n",
    "import matplotlib.pyplot as plt"
   ]
  },
  {
   "cell_type": "code",
   "execution_count": null,
   "metadata": {},
   "outputs": [],
   "source": [
    "sample_wave_function = lambda x: np.sqrt()"
   ]
  },
  {
   "cell_type": "code",
   "execution_count": 4,
   "metadata": {},
   "outputs": [
    {
     "name": "stdout",
     "output_type": "stream",
     "text": [
      "Collecting qsharp\n",
      "  Downloading qsharp-1.5.0-cp37-abi3-win_amd64.whl (1.7 MB)\n",
      "                                              0.0/1.7 MB ? eta -:--:--\n",
      "     --------                                 0.4/1.7 MB 11.2 MB/s eta 0:00:01\n",
      "     ----------------------                   1.0/1.7 MB 12.3 MB/s eta 0:00:01\n",
      "     ------------------------------------     1.6/1.7 MB 12.7 MB/s eta 0:00:01\n",
      "     ---------------------------------------- 1.7/1.7 MB 12.3 MB/s eta 0:00:00\n",
      "Collecting azure-quantum\n",
      "  Downloading azure_quantum-2.0.1-py3-none-any.whl (142 kB)\n",
      "                                              0.0/142.1 kB ? eta -:--:--\n",
      "     -------------------------------------- 142.1/142.1 kB 8.8 MB/s eta 0:00:00\n",
      "Collecting azure-core<2.0,>=1.30 (from azure-quantum)\n",
      "  Downloading azure_core-1.30.1-py3-none-any.whl (193 kB)\n",
      "                                              0.0/193.4 kB ? eta -:--:--\n",
      "     ------------------------------------- 193.4/193.4 kB 12.2 MB/s eta 0:00:00\n",
      "Collecting azure-identity<2.0,>=1.15 (from azure-quantum)\n",
      "  Downloading azure_identity-1.16.0-py3-none-any.whl (166 kB)\n",
      "                                              0.0/166.1 kB ? eta -:--:--\n",
      "     -------------------------------------- 166.1/166.1 kB 9.7 MB/s eta 0:00:00\n",
      "Collecting azure-storage-blob<13.0,>=12.19 (from azure-quantum)\n",
      "  Downloading azure_storage_blob-12.20.0-py3-none-any.whl (392 kB)\n",
      "                                              0.0/392.2 kB ? eta -:--:--\n",
      "     ------------------------------------- 392.2/392.2 kB 11.9 MB/s eta 0:00:00\n",
      "Collecting msrest<1.0,>=0.7.1 (from azure-quantum)\n",
      "  Downloading msrest-0.7.1-py3-none-any.whl (85 kB)\n",
      "                                              0.0/85.4 kB ? eta -:--:--\n",
      "     ---------------------------------------- 85.4/85.4 kB ? eta 0:00:00\n",
      "Requirement already satisfied: numpy<2.0,>=1.21.0 in c:\\users\\cwl8\\desktop\\quantummechanics\\.venv\\lib\\site-packages (from azure-quantum) (1.26.4)\n",
      "Collecting deprecated<2.0,>=1.2.12 (from azure-quantum)\n",
      "  Downloading Deprecated-1.2.14-py2.py3-none-any.whl (9.6 kB)\n",
      "Collecting Markdown>=3.4.1 (from azure-quantum)\n",
      "  Downloading Markdown-3.6-py3-none-any.whl (105 kB)\n",
      "                                              0.0/105.4 kB ? eta -:--:--\n",
      "     -------------------------------------- 105.4/105.4 kB 5.9 MB/s eta 0:00:00\n",
      "Collecting python-markdown-math>=0.8 (from azure-quantum)\n",
      "  Downloading python_markdown_math-0.8-py3-none-any.whl (5.9 kB)\n",
      "Collecting requests>=2.21.0 (from azure-core<2.0,>=1.30->azure-quantum)\n",
      "  Downloading requests-2.32.2-py3-none-any.whl (63 kB)\n",
      "                                              0.0/63.9 kB ? eta -:--:--\n",
      "     ---------------------------------------- 63.9/63.9 kB ? eta 0:00:00\n",
      "Requirement already satisfied: six>=1.11.0 in c:\\users\\cwl8\\desktop\\quantummechanics\\.venv\\lib\\site-packages (from azure-core<2.0,>=1.30->azure-quantum) (1.16.0)\n",
      "Requirement already satisfied: typing-extensions>=4.6.0 in c:\\users\\cwl8\\desktop\\quantummechanics\\.venv\\lib\\site-packages (from azure-core<2.0,>=1.30->azure-quantum) (4.12.0)\n",
      "Collecting cryptography>=2.5 (from azure-identity<2.0,>=1.15->azure-quantum)\n",
      "  Downloading cryptography-42.0.7-cp39-abi3-win_amd64.whl (2.9 MB)\n",
      "                                              0.0/2.9 MB ? eta -:--:--\n",
      "     ------                                   0.5/2.9 MB 14.2 MB/s eta 0:00:01\n",
      "     --------------                           1.0/2.9 MB 13.1 MB/s eta 0:00:01\n",
      "     ---------------------------              2.0/2.9 MB 15.6 MB/s eta 0:00:01\n",
      "     ---------------------------------------  2.9/2.9 MB 16.7 MB/s eta 0:00:01\n",
      "     ---------------------------------------- 2.9/2.9 MB 15.4 MB/s eta 0:00:00\n",
      "Collecting msal>=1.24.0 (from azure-identity<2.0,>=1.15->azure-quantum)\n",
      "  Downloading msal-1.28.0-py3-none-any.whl (102 kB)\n",
      "                                              0.0/102.2 kB ? eta -:--:--\n",
      "     ---------------------------------------- 102.2/102.2 kB ? eta 0:00:00\n",
      "Collecting msal-extensions>=0.3.0 (from azure-identity<2.0,>=1.15->azure-quantum)\n",
      "  Downloading msal_extensions-1.1.0-py3-none-any.whl (19 kB)\n",
      "Collecting isodate>=0.6.1 (from azure-storage-blob<13.0,>=12.19->azure-quantum)\n",
      "  Downloading isodate-0.6.1-py2.py3-none-any.whl (41 kB)\n",
      "                                              0.0/41.7 kB ? eta -:--:--\n",
      "     ---------------------------------------- 41.7/41.7 kB ? eta 0:00:00\n",
      "Collecting wrapt<2,>=1.10 (from deprecated<2.0,>=1.2.12->azure-quantum)\n",
      "  Downloading wrapt-1.16.0-cp311-cp311-win_amd64.whl (37 kB)\n",
      "Collecting certifi>=2017.4.17 (from msrest<1.0,>=0.7.1->azure-quantum)\n",
      "  Using cached certifi-2024.2.2-py3-none-any.whl (163 kB)\n",
      "Collecting requests-oauthlib>=0.5.0 (from msrest<1.0,>=0.7.1->azure-quantum)\n",
      "  Downloading requests_oauthlib-2.0.0-py2.py3-none-any.whl (24 kB)\n",
      "Collecting cffi>=1.12 (from cryptography>=2.5->azure-identity<2.0,>=1.15->azure-quantum)\n",
      "  Using cached cffi-1.16.0-cp311-cp311-win_amd64.whl (181 kB)\n",
      "Collecting PyJWT[crypto]<3,>=1.0.0 (from msal>=1.24.0->azure-identity<2.0,>=1.15->azure-quantum)\n",
      "  Downloading PyJWT-2.8.0-py3-none-any.whl (22 kB)\n",
      "Requirement already satisfied: packaging in c:\\users\\cwl8\\desktop\\quantummechanics\\.venv\\lib\\site-packages (from msal-extensions>=0.3.0->azure-identity<2.0,>=1.15->azure-quantum) (24.0)\n",
      "Collecting portalocker<3,>=1.6 (from msal-extensions>=0.3.0->azure-identity<2.0,>=1.15->azure-quantum)\n",
      "  Downloading portalocker-2.8.2-py3-none-any.whl (17 kB)\n",
      "Collecting charset-normalizer<4,>=2 (from requests>=2.21.0->azure-core<2.0,>=1.30->azure-quantum)\n",
      "  Using cached charset_normalizer-3.3.2-cp311-cp311-win_amd64.whl (99 kB)\n",
      "Collecting idna<4,>=2.5 (from requests>=2.21.0->azure-core<2.0,>=1.30->azure-quantum)\n",
      "  Using cached idna-3.7-py3-none-any.whl (66 kB)\n",
      "Collecting urllib3<3,>=1.21.1 (from requests>=2.21.0->azure-core<2.0,>=1.30->azure-quantum)\n",
      "  Using cached urllib3-2.2.1-py3-none-any.whl (121 kB)\n",
      "Collecting oauthlib>=3.0.0 (from requests-oauthlib>=0.5.0->msrest<1.0,>=0.7.1->azure-quantum)\n",
      "  Using cached oauthlib-3.2.2-py3-none-any.whl (151 kB)\n",
      "Collecting pycparser (from cffi>=1.12->cryptography>=2.5->azure-identity<2.0,>=1.15->azure-quantum)\n",
      "  Downloading pycparser-2.22-py3-none-any.whl (117 kB)\n",
      "                                              0.0/117.6 kB ? eta -:--:--\n",
      "     -------------------------------------- 117.6/117.6 kB 6.7 MB/s eta 0:00:00\n",
      "Requirement already satisfied: pywin32>=226 in c:\\users\\cwl8\\desktop\\quantummechanics\\.venv\\lib\\site-packages (from portalocker<3,>=1.6->msal-extensions>=0.3.0->azure-identity<2.0,>=1.15->azure-quantum) (306)\n",
      "Installing collected packages: wrapt, urllib3, qsharp, PyJWT, pycparser, portalocker, oauthlib, Markdown, isodate, idna, charset-normalizer, certifi, requests, python-markdown-math, deprecated, cffi, requests-oauthlib, cryptography, azure-core, msrest, azure-storage-blob, msal, msal-extensions, azure-identity, azure-quantum\n",
      "Successfully installed Markdown-3.6 PyJWT-2.8.0 azure-core-1.30.1 azure-identity-1.16.0 azure-quantum-2.0.1 azure-storage-blob-12.20.0 certifi-2024.2.2 cffi-1.16.0 charset-normalizer-3.3.2 cryptography-42.0.7 deprecated-1.2.14 idna-3.7 isodate-0.6.1 msal-1.28.0 msal-extensions-1.1.0 msrest-0.7.1 oauthlib-3.2.2 portalocker-2.8.2 pycparser-2.22 python-markdown-math-0.8 qsharp-1.5.0 requests-2.32.2 requests-oauthlib-2.0.0 urllib3-2.2.1 wrapt-1.16.0\n"
     ]
    },
    {
     "name": "stderr",
     "output_type": "stream",
     "text": [
      "\n",
      "[notice] A new release of pip is available: 23.1.2 -> 24.0\n",
      "[notice] To update, run: python.exe -m pip install --upgrade pip\n"
     ]
    }
   ],
   "source": [
    "!python -m pip install qsharp azure-quantum"
   ]
  },
  {
   "cell_type": "code",
   "execution_count": 9,
   "metadata": {},
   "outputs": [
    {
     "data": {
      "application/javascript": "// Copyright (c) Microsoft Corporation.\n// Licensed under the MIT License.\n\n// This file provides CodeMirror syntax highlighting for Q# magic cells\n// in classic Jupyter Notebooks. It does nothing in other (Jupyter Notebook 7,\n// VS Code, Azure Notebooks, etc.) environments.\n\n// Detect the prerequisites and do nothing if they don't exist.\nif (window.require && window.CodeMirror && window.Jupyter) {\n  // The simple mode plugin for CodeMirror is not loaded by default, so require it.\n  window.require([\"codemirror/addon/mode/simple\"], function defineMode() {\n    let rules = [\n      {\n        token: \"comment\",\n        regex: /(\\/\\/).*/,\n        beginWord: false,\n      },\n      {\n        token: \"string\",\n        regex: String.raw`^\\\"(?:[^\\\"\\\\]|\\\\[\\s\\S])*(?:\\\"|$)`,\n        beginWord: false,\n      },\n      {\n        token: \"keyword\",\n        regex: String.raw`(namespace|open|as|operation|function|body|adjoint|newtype|controlled|internal)\\b`,\n        beginWord: true,\n      },\n      {\n        token: \"keyword\",\n        regex: String.raw`(if|elif|else|repeat|until|fixup|for|in|return|fail|within|apply)\\b`,\n        beginWord: true,\n      },\n      {\n        token: \"keyword\",\n        regex: String.raw`(Adjoint|Controlled|Adj|Ctl|is|self|auto|distribute|invert|intrinsic)\\b`,\n        beginWord: true,\n      },\n      {\n        token: \"keyword\",\n        regex: String.raw`(let|set|use|borrow|mutable)\\b`,\n        beginWord: true,\n      },\n      {\n        token: \"operatorKeyword\",\n        regex: String.raw`(not|and|or)\\b|(w/)`,\n        beginWord: true,\n      },\n      {\n        token: \"operatorKeyword\",\n        regex: String.raw`(=)|(!)|(<)|(>)|(\\+)|(-)|(\\*)|(/)|(\\^)|(%)|(\\|)|(&&&)|(~~~)|(\\.\\.\\.)|(\\.\\.)|(\\?)`,\n        beginWord: false,\n      },\n      {\n        token: \"meta\",\n        regex: String.raw`(Int|BigInt|Double|Bool|Qubit|Pauli|Result|Range|String|Unit)\\b`,\n        beginWord: true,\n      },\n      {\n        token: \"atom\",\n        regex: String.raw`(true|false|Pauli(I|X|Y|Z)|One|Zero)\\b`,\n        beginWord: true,\n      },\n    ];\n    let simpleRules = [];\n    for (let rule of rules) {\n      simpleRules.push({\n        token: rule.token,\n        regex: new RegExp(rule.regex, \"g\"),\n        sol: rule.beginWord,\n      });\n      if (rule.beginWord) {\n        // Need an additional rule due to the fact that CodeMirror simple mode doesn't work with ^ token\n        simpleRules.push({\n          token: rule.token,\n          regex: new RegExp(String.raw`\\W` + rule.regex, \"g\"),\n          sol: false,\n        });\n      }\n    }\n\n    // Register the mode defined above with CodeMirror\n    window.CodeMirror.defineSimpleMode(\"qsharp\", { start: simpleRules });\n    window.CodeMirror.defineMIME(\"text/x-qsharp\", \"qsharp\");\n\n    // Tell Jupyter to associate %%qsharp magic cells with the qsharp mode\n    window.Jupyter.CodeCell.options_default.highlight_modes[\"qsharp\"] = {\n      reg: [/^%%qsharp/],\n    };\n\n    // Force re-highlighting of all cells the first time this code runs\n    for (const cell of window.Jupyter.notebook.get_cells()) {\n      cell.auto_highlight();\n    }\n  });\n}\n",
      "text/plain": []
     },
     "metadata": {},
     "output_type": "display_data"
    }
   ],
   "source": [
    "import qsharp"
   ]
  },
  {
   "cell_type": "code",
   "execution_count": 12,
   "metadata": {},
   "outputs": [],
   "source": [
    "%%qsharp\n",
    "operation GenerateRandomBit() : Result {\n",
    "    // Allocate a qubit.\n",
    "    use q = Qubit();\n",
    "\n",
    "    // Set the qubit into superposition of 0 and 1 using the Hadamard \n",
    "    H(q);\n",
    "\n",
    "    // At this point the qubit q has 50% chance of being measured in the\n",
    "    // |0〉 state and 50% chance of being measured in the |1〉 state.\n",
    "    // Measure the qubit value using the M operation, and store the\n",
    "    // measurement value in the result variable.\n",
    "    let result = M(q);\n",
    "\n",
    "    // Reset qubit to the |0〉 state.\n",
    "    // Qubits must be in the |0〉 state by the time they are released.\n",
    "    Reset(q);\n",
    "\n",
    "    // Return the result of the measurement.\n",
    "    return result;\n",
    "}"
   ]
  },
  {
   "cell_type": "code",
   "execution_count": 15,
   "metadata": {},
   "outputs": [
    {
     "data": {
      "text/plain": [
       "One"
      ]
     },
     "execution_count": 15,
     "metadata": {},
     "output_type": "execute_result"
    }
   ],
   "source": [
    "qsharp.eval('GenerateRandomBit()')"
   ]
  },
  {
   "cell_type": "code",
   "execution_count": null,
   "metadata": {},
   "outputs": [],
   "source": []
  }
 ],
 "metadata": {
  "kernelspec": {
   "display_name": "Python 3",
   "language": "python",
   "name": "python3"
  },
  "language_info": {
   "codemirror_mode": {
    "name": "ipython",
    "version": 3
   },
   "file_extension": ".py",
   "mimetype": "text/x-python",
   "name": "python",
   "nbconvert_exporter": "python",
   "pygments_lexer": "ipython3",
   "version": "3.11.4"
  }
 },
 "nbformat": 4,
 "nbformat_minor": 2
}
