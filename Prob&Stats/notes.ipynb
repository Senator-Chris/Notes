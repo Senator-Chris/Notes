{
 "cells": [
  {
   "cell_type": "code",
   "execution_count": 1,
   "metadata": {},
   "outputs": [],
   "source": [
    "from dataclasses import dataclass"
   ]
  },
  {
   "cell_type": "markdown",
   "metadata": {},
   "source": [
    "<center id=\"Probability: Theory and Examples\"><h1><b>Probability: Theory and Examples</h1></b></center><hr>"
   ]
  },
  {
   "cell_type": "markdown",
   "metadata": {},
   "source": [
    "<h2><b>1. <u>MEASURE THEORY<u></b></h2>"
   ]
  },
  {
   "cell_type": "markdown",
   "metadata": {},
   "source": [
    "<h3><b>1.1 <u>Probability Spaces<u></b></h3>"
   ]
  },
  {
   "cell_type": "markdown",
   "metadata": {},
   "source": [
    "<u><b style=\"color:#156082\">Probability Space:</b></u> A triple $(\\Omega,\\mathcal{F},\\mathbf{P})$, where $\\Omega$ is a set of \"outcomes,\" $\\mathcal{F}$ is a set of \"events,\" and $\\mathbf{P}:\\ \\mathcal{F}\\rightarrow[0,1]$ is a function that assigns probabilities to events. We assume $\\mathcal{F}$ is a <u><b style=\"color:#156082\">$\\sigma$-field</b></u>, i.e., a (nonempty) collection of subsets of $\\Omega$ that satisfy\n",
    "\n",
    "1. if $A\\in\\mathcal{F}$, then $A^C\\in\\mathcal{F}$, and\n",
    "2. if $A_i\\in\\mathcal{F}$ is a countable sequence of sets, then $\\cup_iA_i\\in\\mathcal{F}$.\n"
   ]
  },
  {
   "cell_type": "code",
   "execution_count": 2,
   "metadata": {},
   "outputs": [
    {
     "ename": "SyntaxError",
     "evalue": "incomplete input (2430674847.py, line 8)",
     "output_type": "error",
     "traceback": [
      "\u001b[1;36m  Cell \u001b[1;32mIn[2], line 8\u001b[1;36m\u001b[0m\n\u001b[1;33m    \u001b[0m\n\u001b[1;37m    ^\u001b[0m\n\u001b[1;31mSyntaxError\u001b[0m\u001b[1;31m:\u001b[0m incomplete input\n"
     ]
    }
   ],
   "source": [
    "class BaseSet(set):\n",
    "    \"\"\"Base class for sets, just uses a set for now.\"\"\"\n",
    "    def __init__(self, *args, **kargs):\n",
    "        super(BaseSet, self).__init__(*args, **kargs)\n",
    "\n",
    "class Omega(BaseSet):\n",
    "    def __init__(self):\n",
    "        \n"
   ]
  },
  {
   "cell_type": "markdown",
   "metadata": {},
   "source": [
    "<u><b style=\"color:#156082\">Measure:</b></u> A nonnegative countably additive set function; that is, a function $\\mu:\\ \\mathcal{F}\\rightarrow\\mathbf{R}$ with\n",
    "\n",
    "1. $\\mu(A)\\ge\\mu(\\emptyset)=0$ for all $A\\in\\mathcal{F}$, and\n",
    "2. if $A_i\\in\\mathcal{F}$ is a countable sequence of disjoint sets, then\n",
    "\n",
    "$$\\mu(\\cup_iA_i)=\\underset{i}{\\sum}\\mu(A_i)$$\n"
   ]
  },
  {
   "cell_type": "markdown",
   "metadata": {},
   "source": [
    "<u><b style=\"color:#156082\">Probability Measure:</b></u> A measure for which $\\mu(\\Omega)=1$."
   ]
  },
  {
   "cell_type": "markdown",
   "metadata": {},
   "source": [
    "\n",
    "\n",
    "<u><b style=\"color:#156082\">Measureable Space:</b></u> A space on which we can put a measure. "
   ]
  },
  {
   "cell_type": "markdown",
   "metadata": {},
   "source": [
    "<u><b style=\"color:#C00000\">Theorem 1.1.1:</b></u> Let $\\mu$ be a measure on $(\\Omega,\\mathcal{F})$\n",
    "\n",
    "1. <b>monotonocity.</b> If $A\\in B$, then $\\mu(A)\\le\\mu(B)$.\n",
    "\n",
    "2. <b>subadditivity.</b> If $A\\subset\\cup_{i=1}^{\\infty}A_m$, then $\\mu(A)\\le\\sum_{m=1}^{\\infty}\\mu(A_m)$\n",
    "\n",
    "3. <b>continuity from below.</b> If $A_i\\uparrow A$ (i.e., $A_1\\subset A_2\\subset\\ldots$ and $\\cup_iA_i=A$), then $\\mu(A_i)\\uparrow\\mu(A)$.\n",
    "\n",
    "4. <b>continuity from above.</b> If $A_i\\downarrow A$ (i.e., $A_1\\supset A_2\\supset\\ldots$ and $\\cap_iA_i=A$), with $\\mu(A_1)<\\infty$, then $\\mu(A_i)\\downarrow\\mu(A)$.\n",
    "\n",
    "\n",
    "&emsp;&emsp;<i>Proof.</i>\n",
    "\n",
    "1. Let $B-A=B\\cap A^C$ be the difference of the two sets. Using $+$ to denote disjoint union, $B=A+(B-A)$ so\n",
    "\n",
    "$$\\mu(B)=\\mu(A)+\\mu(B-A)\\ge\\mu(A)$$\n",
    "\n",
    "\n",
    "\n",
    "2. \n"
   ]
  },
  {
   "cell_type": "markdown",
   "metadata": {},
   "source": []
  }
 ],
 "metadata": {
  "kernelspec": {
   "display_name": ".venv",
   "language": "python",
   "name": "python3"
  },
  "language_info": {
   "codemirror_mode": {
    "name": "ipython",
    "version": 3
   },
   "file_extension": ".py",
   "mimetype": "text/x-python",
   "name": "python",
   "nbconvert_exporter": "python",
   "pygments_lexer": "ipython3",
   "version": "3.11.4"
  }
 },
 "nbformat": 4,
 "nbformat_minor": 2
}
